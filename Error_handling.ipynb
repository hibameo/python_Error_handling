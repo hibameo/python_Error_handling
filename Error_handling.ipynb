{
  "nbformat": 4,
  "nbformat_minor": 0,
  "metadata": {
    "colab": {
      "provenance": [],
      "authorship_tag": "ABX9TyPfPoiVJF9qpB2kIYMyVZMV",
      "include_colab_link": true
    },
    "kernelspec": {
      "name": "python3",
      "display_name": "Python 3"
    },
    "language_info": {
      "name": "python"
    }
  },
  "cells": [
    {
      "cell_type": "markdown",
      "metadata": {
        "id": "view-in-github",
        "colab_type": "text"
      },
      "source": [
        "<a href=\"https://colab.research.google.com/github/hibameo/python_Error_handling/blob/main/Error_handling.ipynb\" target=\"_parent\"><img src=\"https://colab.research.google.com/assets/colab-badge.svg\" alt=\"Open In Colab\"/></a>"
      ]
    },
    {
      "cell_type": "markdown",
      "source": [
        "Error Handling in\n",
        "\n",
        "Error Handling in Python Error handling is an important concept in Python that helps us manage and respond to errors (exceptions) that may occur during the execution of a program. Without error handling, an error can cause a program to crash. Python provides a way to handle errors using try, except, finally, and else blocks."
      ],
      "metadata": {
        "id": "cWxczW--l1ml"
      }
    },
    {
      "cell_type": "markdown",
      "source": [
        "# Types of Errors in ***Python***"
      ],
      "metadata": {
        "id": "zQqY4CDrl60e"
      }
    },
    {
      "cell_type": "markdown",
      "source": [
        "Syntax Errors – Occur when the syntax of Python code is incorrect. Example:"
      ],
      "metadata": {
        "id": "QHC0avPymBot"
      }
    },
    {
      "cell_type": "code",
      "execution_count": 1,
      "metadata": {
        "colab": {
          "base_uri": "https://localhost:8080/",
          "height": 106
        },
        "id": "hlxa71nWluSK",
        "outputId": "d4ae2b12-3cb3-4e76-f43a-5bfa36eac361"
      },
      "outputs": [
        {
          "output_type": "error",
          "ename": "SyntaxError",
          "evalue": "incomplete input (<ipython-input-1-a7657f7d8239>, line 1)",
          "traceback": [
            "\u001b[0;36m  File \u001b[0;32m\"<ipython-input-1-a7657f7d8239>\"\u001b[0;36m, line \u001b[0;32m1\u001b[0m\n\u001b[0;31m    print(\"Hello World\"  # Missing closing parenthesis\u001b[0m\n\u001b[0m                                                      ^\u001b[0m\n\u001b[0;31mSyntaxError\u001b[0m\u001b[0;31m:\u001b[0m incomplete input\n"
          ]
        }
      ],
      "source": [
        "print(\"Hello World\"  # Missing closing parenthesis\n"
      ]
    },
    {
      "cell_type": "markdown",
      "source": [
        "Runtime Errors (Exceptions) – Occur during the execution of a program. Example:"
      ],
      "metadata": {
        "id": "ZNSUyrJ9mJze"
      }
    },
    {
      "cell_type": "code",
      "source": [
        "x = 10 / 0  # ZeroDivisionError"
      ],
      "metadata": {
        "colab": {
          "base_uri": "https://localhost:8080/",
          "height": 141
        },
        "id": "UdYWSFLdmKxW",
        "outputId": "92178168-0495-49a4-e0ac-4b71419818ba"
      },
      "execution_count": 2,
      "outputs": [
        {
          "output_type": "error",
          "ename": "ZeroDivisionError",
          "evalue": "division by zero",
          "traceback": [
            "\u001b[0;31m---------------------------------------------------------------------------\u001b[0m",
            "\u001b[0;31mZeroDivisionError\u001b[0m                         Traceback (most recent call last)",
            "\u001b[0;32m<ipython-input-2-7d6455d8ce9a>\u001b[0m in \u001b[0;36m<cell line: 0>\u001b[0;34m()\u001b[0m\n\u001b[0;32m----> 1\u001b[0;31m \u001b[0mx\u001b[0m \u001b[0;34m=\u001b[0m \u001b[0;36m10\u001b[0m \u001b[0;34m/\u001b[0m \u001b[0;36m0\u001b[0m  \u001b[0;31m# ZeroDivisionError\u001b[0m\u001b[0;34m\u001b[0m\u001b[0;34m\u001b[0m\u001b[0m\n\u001b[0m",
            "\u001b[0;31mZeroDivisionError\u001b[0m: division by zero"
          ]
        }
      ]
    },
    {
      "cell_type": "markdown",
      "source": [
        "Logical Errors – Occur when the program runs without crashing but gives the wrong result."
      ],
      "metadata": {
        "id": "Qa98hIY0mRAt"
      }
    },
    {
      "cell_type": "markdown",
      "source": [
        "How to Handle Errors in Python Python provides the try-except block to handle exceptions and prevent crashes.*italicized text*"
      ],
      "metadata": {
        "id": "v77fBsN2mU12"
      }
    },
    {
      "cell_type": "markdown",
      "source": [
        "Basic Try-Except Example"
      ],
      "metadata": {
        "id": "srGh2_hFmZee"
      }
    },
    {
      "cell_type": "code",
      "source": [
        "try:\n",
        "    x = 10 / 0  # This will raise a ZeroDivisionError\n",
        "except ZeroDivisionError:\n",
        "    print(\"You cannot divide a number by zero!\")"
      ],
      "metadata": {
        "colab": {
          "base_uri": "https://localhost:8080/"
        },
        "id": "mFE1u-7Lmate",
        "outputId": "9183d62e-8f97-40c5-e76a-fa64fb85a5d1"
      },
      "execution_count": 3,
      "outputs": [
        {
          "output_type": "stream",
          "name": "stdout",
          "text": [
            "You cannot divide a number by zero!\n"
          ]
        }
      ]
    },
    {
      "cell_type": "markdown",
      "source": [
        "Using Multiple Except Blocks"
      ],
      "metadata": {
        "id": "yFCnsRM8mgb-"
      }
    },
    {
      "cell_type": "code",
      "source": [
        "try:\n",
        "    num = int(input(\"Enter a number: \"))\n",
        "    result = 10 / num\n",
        "except ZeroDivisionError:\n",
        "    print(\"You cannot divide by zero.\")\n",
        "except ValueError:\n",
        "    print(\"Invalid input! Please enter a number.\")"
      ],
      "metadata": {
        "colab": {
          "base_uri": "https://localhost:8080/"
        },
        "id": "sKfKfeeUmkZ2",
        "outputId": "9f147508-9135-4335-8f14-2480f0f3e9e8"
      },
      "execution_count": 4,
      "outputs": [
        {
          "name": "stdout",
          "output_type": "stream",
          "text": [
            "Enter a number: 5\n"
          ]
        }
      ]
    },
    {
      "cell_type": "markdown",
      "source": [
        "Using Finally Block"
      ],
      "metadata": {
        "id": "61mwcQ3FmnYd"
      }
    },
    {
      "cell_type": "code",
      "source": [
        "try:\n",
        "    file = open(\"test.txt\", \"r\")\n",
        "    data = file.read()\n",
        "except FileNotFoundError:\n",
        "    print(\"File not found!\")\n",
        "finally:\n",
        "    print(\"Execution completed.\")\n"
      ],
      "metadata": {
        "colab": {
          "base_uri": "https://localhost:8080/"
        },
        "id": "FTi5beU1mrwm",
        "outputId": "cf85d612-aa41-416d-b28f-c3b0d593e31a"
      },
      "execution_count": 5,
      "outputs": [
        {
          "output_type": "stream",
          "name": "stdout",
          "text": [
            "File not found!\n",
            "Execution completed.\n"
          ]
        }
      ]
    },
    {
      "cell_type": "markdown",
      "source": [
        "Importance of Error Handling"
      ],
      "metadata": {
        "id": "CdKUSrNAm0Ge"
      }
    },
    {
      "cell_type": "markdown",
      "source": [
        "\n",
        "Prevents Program Crashes – Error handling ensures that a program does not terminate unexpectedly. Improves User Experience – It allows developers to provide meaningful error messages instead of confusing system errors. Helps Debugging – Handling exceptions helps developers identify and fix issues easily. Ensures Proper Resource Management – It helps in closing files, releasing memory, and handling network connections properly."
      ],
      "metadata": {
        "id": "RPTIPgd9mwU9"
      }
    }
  ]
}